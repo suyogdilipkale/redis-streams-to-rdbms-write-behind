{
 "cells": [
  {
   "cell_type": "markdown",
   "metadata": {},
   "source": [
    "# Redis to RDBMS Write-Behind Pipeline\n",
    "This notebook demonstrates a pipeline that inserts data into RedisJSON, queues them into Redis Streams, and writes them into RDBMS using configurable YAML files."
   ]
  },
  {
   "cell_type": "code",
   "execution_count": null,
   "metadata": {},
   "outputs": [],
   "source": [
    "# Install required packages\n",
    "!pip install redis pyyaml psycopg2-binary mysql-connector-python cx_Oracle"
   ]
  },
  {
   "cell_type": "code",
   "execution_count": null,
   "metadata": {},
   "outputs": [],
   "source": [
    "# Import libraries\n",
    "import redis\n",
    "import yaml\n",
    "import json\n",
    "import random\n",
    "import time\n",
    "import logging\n",
    "from datetime import datetime\n",
    "from utils import insert_to_redis, RedisWriteBehind, log_metrics, insert_dummy_user_actions"
   ]
  },
  {
   "cell_type": "markdown",
   "metadata": {},
   "source": [
    "## Load configuration"
   ]
  },
  {
   "cell_type": "code",
   "execution_count": null,
   "metadata": {},
   "outputs": [],
   "source": [
    "with open("configs/config.yaml") as f:\n",
    "    config = yaml.safe_load(f)"
   ]
  },
  {
   "cell_type": "markdown",
   "metadata": {},
   "source": [
    "## Run dummy insert and write-behind logic"
   ]
  },
  {
   "cell_type": "code",
   "execution_count": null,
   "metadata": {},
   "outputs": [],
   "source": [
    "insert_dummy_user_actions(config)\n",
    "RedisWriteBehind(config)\n",
    "log_metrics(config)"
   ]
  }
 ]
}