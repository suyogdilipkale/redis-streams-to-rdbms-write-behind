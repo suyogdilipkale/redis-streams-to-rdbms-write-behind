{
 "cells": [
  {
   "cell_type": "markdown",
   "id": "f2f85114",
   "metadata": {},
   "source": [
    "# Redis Write-Behind to MySQL Pipeline\n",
    "This notebook demonstrates inserting JSON data into Redis, appending metadata to Redis Streams, and processing them asynchronously to write to MySQL (or other RDBMS)."
   ]
  },
  {
   "cell_type": "code",
   "execution_count": 2,
   "id": "651f2be0",
   "metadata": {},
   "outputs": [],
   "source": [
    "import redis\n",
    "import json\n",
    "import time\n",
    "import random\n",
    "import yaml\n",
    "import logging\n",
    "import mysql.connector\n",
    "from datetime import datetime\n",
    "from redis.exceptions import ResponseError"
   ]
  },
  {
   "cell_type": "code",
   "execution_count": 3,
   "id": "25affde3",
   "metadata": {},
   "outputs": [],
   "source": [
    "# --- Logging Setup ---\n",
    "logger = logging.getLogger(\"RedisWriteBehind\")\n",
    "logger.setLevel(logging.DEBUG)\n",
    "\n",
    "ch = logging.StreamHandler()\n",
    "formatter = logging.Formatter('%(asctime)s - %(levelname)s - %(message)s')\n",
    "ch.setFormatter(formatter)\n",
    "logger.addHandler(ch)"
   ]
  },
  {
   "cell_type": "code",
   "execution_count": 4,
   "id": "9e45bf6b",
   "metadata": {},
   "outputs": [],
   "source": [
    "# --- Redis Client ---\n",
    "def get_redis_client(redis_config):\n",
    "    return redis.Redis(\n",
    "        host=redis_config['host'],\n",
    "        port=redis_config['port'],\n",
    "        db=redis_config.get('db', 0),\n",
    "        decode_responses=True\n",
    "    )"
   ]
  },
  {
   "cell_type": "code",
   "execution_count": 5,
   "id": "b105c2d4",
   "metadata": {},
   "outputs": [],
   "source": [
    "# --- MySQL Client ---\n",
    "def get_mysql_connection(mysql_config):\n",
    "    return mysql.connector.connect(\n",
    "        host=mysql_config['host'],\n",
    "        port=mysql_config.get('port', 3306),\n",
    "        user=mysql_config['user'],\n",
    "        password=mysql_config['password'],\n",
    "        database=mysql_config['database']\n",
    "    )"
   ]
  },
  {
   "cell_type": "code",
   "execution_count": 6,
   "id": "57209a9f",
   "metadata": {},
   "outputs": [],
   "source": [
    "# --- Insert JSON + Stream Entry ---\n",
    "def insert_document(config, entity_type, key, data, zero_loss=False, debug=False):\n",
    "    redis_client = get_redis_client(config['redis'])\n",
    "    stream_key = config['entity_streams'][entity_type]['stream']\n",
    "    retries = config.get('retry_attempts', 3)\n",
    "\n",
    "    for attempt in range(retries):\n",
    "        try:\n",
    "            redis_client.json().set(key, '$', data)\n",
    "\n",
    "            if zero_loss:\n",
    "                if debug:\n",
    "                    logger.debug(f\"[{entity_type}] Using WAITAOF and WAIT for durability\")\n",
    "                redis_client.execute_command(\"WAITAOF\", 1, 1000)\n",
    "                redis_client.execute_command(\"WAIT\", 1, 1000)\n",
    "\n",
    "            redis_client.xadd(stream_key, {'key': key, 'entity': entity_type})\n",
    "\n",
    "            if debug:\n",
    "                logger.debug(f\"Inserted key {key} into Redis and stream {stream_key}\")\n",
    "            redis_client.incr(f\"metrics:{entity_type}:redis:success\")\n",
    "            return\n",
    "\n",
    "        except Exception as e:\n",
    "            logger.warning(f\"[Attempt {attempt+1}] Failed to insert {key}: {e}\")\n",
    "            redis_client.incr(f\"metrics:{entity_type}:redis:fail\")\n",
    "            time.sleep(1)\n",
    "\n",
    "    if debug:\n",
    "        logger.error(f\"Failed to insert {key} after {retries} attempts\")"
   ]
  },
  {
   "cell_type": "code",
   "execution_count": 7,
   "id": "94a3fedc",
   "metadata": {},
   "outputs": [],
   "source": [
    "# --- Redis Write-Behind Class ---\n",
    "class RedisWriteBehind:\n",
    "    def __init__(self, config):\n",
    "        self.config = config\n",
    "        self.redis = get_redis_client(config['redis'])\n",
    "        self.rdbms_type = config['rdbms']['type']\n",
    "        self.retry_attempts = config.get('retry_attempts', 3)\n",
    "        self.debug = config.get('debug_logs', False)\n",
    "\n",
    "    def _transform_data(self, entity_type, json_data):\n",
    "        transform = self.config['entity_streams'][entity_type].get('transform')\n",
    "        return json_data if transform is None else json_data\n",
    "\n",
    "    def _write_to_rdbms(self, entity_type, records):\n",
    "        rdbms_cfg = self.config['rdbms']\n",
    "        conn = get_mysql_connection(rdbms_cfg)\n",
    "        cursor = conn.cursor()\n",
    "\n",
    "        for record in records:\n",
    "            try:\n",
    "                key = record['key']\n",
    "                json_data = self.redis.json().get(key)\n",
    "                transformed = self._transform_data(entity_type, json_data)\n",
    "\n",
    "                cursor.execute(\n",
    "                    \"INSERT INTO user_actions (user_id, action, ts) VALUES (%s, %s, %s)\",\n",
    "                    (transformed['user_id'], transformed['action'], transformed['timestamp'])\n",
    "                )\n",
    "                self.redis.incr(f\"metrics:{entity_type}:rdbms:success\")\n",
    "            except Exception as e:\n",
    "                self.redis.incr(f\"metrics:{entity_type}:rdbms:fail\")\n",
    "                if self.debug:\n",
    "                    logger.warning(f\"Failed to write key {key} to RDBMS: {e}\")\n",
    "\n",
    "        conn.commit()\n",
    "        cursor.close()\n",
    "        conn.close()\n",
    "\n",
    "    def process_stream(self, entity_type):\n",
    "        stream_key = self.config['entity_streams'][entity_type]['stream']\n",
    "        count = self.config['entity_streams'][entity_type].get('batch_size', 10)\n",
    "        last_id = '0'\n",
    "\n",
    "        while True:\n",
    "            try:\n",
    "                entries = self.redis.xrange(stream_key, min=last_id, count=count)\n",
    "                if not entries:\n",
    "                    break\n",
    "\n",
    "                records = []\n",
    "                for entry_id, data in entries:\n",
    "                    last_id = entry_id\n",
    "                    records.append({k: v for k, v in data.items()})\n",
    "\n",
    "                self._write_to_rdbms(entity_type, records)\n",
    "            except Exception as e:\n",
    "                logger.error(f\"Error processing stream {stream_key}: {e}\")\n",
    "                break"
   ]
  },
  {
   "cell_type": "code",
   "execution_count": 8,
   "id": "dd77c013",
   "metadata": {},
   "outputs": [],
   "source": [
    "# --- Dummy Inserter ---\n",
    "def insert_dummy_user_actions(config, num_records=10):\n",
    "    import uuid\n",
    "    for _ in range(num_records):\n",
    "        key = f\"user_action:{datetime.utcnow().isoformat()}:{uuid.uuid4()}\"\n",
    "        doc = {\n",
    "            \"user_id\": f\"user{random.randint(1, 5)}\",\n",
    "            \"action\": random.choice([\"login\", \"logout\", \"purchase\", \"view\"]),\n",
    "            \"timestamp\": datetime.utcnow().isoformat()\n",
    "        }\n",
    "        insert_document(config, \"user_action\", key, doc, zero_loss=True, debug=True)"
   ]
  },
  {
   "cell_type": "code",
   "execution_count": 9,
   "id": "27978956",
   "metadata": {},
   "outputs": [],
   "source": [
    "# --- Load Metrics ---\n",
    "def load_metrics(config):\n",
    "    redis_client = get_redis_client(config['redis'])\n",
    "    keys = redis_client.keys(\"metrics:*\")\n",
    "    for key in keys:\n",
    "        print(f\"{key}: {redis_client.get(key)}\")"
   ]
  },
  {
   "cell_type": "code",
   "execution_count": null,
   "id": "daf7d0f4-5a40-4091-9205-d29957cc3c3c",
   "metadata": {},
   "outputs": [],
   "source": []
  }
 ],
 "metadata": {
  "kernelspec": {
   "display_name": "Python 3 (ipykernel)",
   "language": "python",
   "name": "python3"
  },
  "language_info": {
   "codemirror_mode": {
    "name": "ipython",
    "version": 3
   },
   "file_extension": ".py",
   "mimetype": "text/x-python",
   "name": "python",
   "nbconvert_exporter": "python",
   "pygments_lexer": "ipython3",
   "version": "3.9.6"
  }
 },
 "nbformat": 4,
 "nbformat_minor": 5
}
