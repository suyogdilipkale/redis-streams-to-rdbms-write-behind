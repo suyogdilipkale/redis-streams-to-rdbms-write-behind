{
 "cells": [
  {
   "cell_type": "markdown",
   "id": "8c48ff21",
   "metadata": {},
   "source": [
    "# Redis Write-Behind Pipeline\n",
    "This notebook implements inserting documents into Redis JSON, queuing them in Redis Streams, and writing to RDBMS."
   ]
  },
  {
   "cell_type": "code",
   "execution_count": null,
   "id": "9547f5c3",
   "metadata": {},
   "outputs": [
    {
     "name": "stderr",
     "output_type": "stream",
     "text": [
      "2025-08-08 16:04:54,133 - ERROR - MySQL insert attempt 1 failed: Authentication plugin 'caching_sha2_password' is not supported\n",
      "ERROR:RedisWriteBehind:MySQL insert attempt 1 failed: Authentication plugin 'caching_sha2_password' is not supported\n"
     ]
    },
    {
     "name": "stdout",
     "output_type": "stream",
     "text": [
      "{'user_id': 37, 'action': 'click', 'ts': '2025-08-08T10:29:45.108054'}\n",
      "calling write_to_rdbms\n",
      "INSERT INTO user_actions (user_id, action, ts) VALUES (%s, %s, %s)\n"
     ]
    },
    {
     "name": "stderr",
     "output_type": "stream",
     "text": [
      "2025-08-08 16:04:55,139 - ERROR - MySQL insert attempt 2 failed: Authentication plugin 'caching_sha2_password' is not supported\n",
      "ERROR:RedisWriteBehind:MySQL insert attempt 2 failed: Authentication plugin 'caching_sha2_password' is not supported\n",
      "2025-08-08 16:04:56,148 - ERROR - MySQL insert attempt 3 failed: Authentication plugin 'caching_sha2_password' is not supported\n",
      "ERROR:RedisWriteBehind:MySQL insert attempt 3 failed: Authentication plugin 'caching_sha2_password' is not supported\n",
      "2025-08-08 16:04:57,164 - ERROR - MySQL insert attempt 1 failed: Authentication plugin 'caching_sha2_password' is not supported\n",
      "ERROR:RedisWriteBehind:MySQL insert attempt 1 failed: Authentication plugin 'caching_sha2_password' is not supported\n"
     ]
    },
    {
     "name": "stdout",
     "output_type": "stream",
     "text": [
      "{'user_id': 82, 'action': 'click', 'ts': '2025-08-08T10:29:45.110663'}\n",
      "calling write_to_rdbms\n",
      "INSERT INTO user_actions (user_id, action, ts) VALUES (%s, %s, %s)\n"
     ]
    },
    {
     "name": "stderr",
     "output_type": "stream",
     "text": [
      "2025-08-08 16:04:58,175 - ERROR - MySQL insert attempt 2 failed: Authentication plugin 'caching_sha2_password' is not supported\n",
      "ERROR:RedisWriteBehind:MySQL insert attempt 2 failed: Authentication plugin 'caching_sha2_password' is not supported\n",
      "2025-08-08 16:04:59,183 - ERROR - MySQL insert attempt 3 failed: Authentication plugin 'caching_sha2_password' is not supported\n",
      "ERROR:RedisWriteBehind:MySQL insert attempt 3 failed: Authentication plugin 'caching_sha2_password' is not supported\n",
      "2025-08-08 16:05:00,192 - ERROR - MySQL insert attempt 1 failed: Authentication plugin 'caching_sha2_password' is not supported\n",
      "ERROR:RedisWriteBehind:MySQL insert attempt 1 failed: Authentication plugin 'caching_sha2_password' is not supported\n"
     ]
    },
    {
     "name": "stdout",
     "output_type": "stream",
     "text": [
      "{'user_id': 1, 'action': 'click', 'ts': '2025-08-08T10:29:45.111502'}\n",
      "calling write_to_rdbms\n",
      "INSERT INTO user_actions (user_id, action, ts) VALUES (%s, %s, %s)\n"
     ]
    },
    {
     "name": "stderr",
     "output_type": "stream",
     "text": [
      "2025-08-08 16:05:01,204 - ERROR - MySQL insert attempt 2 failed: Authentication plugin 'caching_sha2_password' is not supported\n",
      "ERROR:RedisWriteBehind:MySQL insert attempt 2 failed: Authentication plugin 'caching_sha2_password' is not supported\n",
      "2025-08-08 16:05:02,213 - ERROR - MySQL insert attempt 3 failed: Authentication plugin 'caching_sha2_password' is not supported\n",
      "ERROR:RedisWriteBehind:MySQL insert attempt 3 failed: Authentication plugin 'caching_sha2_password' is not supported\n",
      "2025-08-08 16:05:03,223 - ERROR - MySQL insert attempt 1 failed: Authentication plugin 'caching_sha2_password' is not supported\n",
      "ERROR:RedisWriteBehind:MySQL insert attempt 1 failed: Authentication plugin 'caching_sha2_password' is not supported\n"
     ]
    },
    {
     "name": "stdout",
     "output_type": "stream",
     "text": [
      "{'user_id': 15, 'action': 'click', 'ts': '2025-08-08T10:29:45.112316'}\n",
      "calling write_to_rdbms\n",
      "INSERT INTO user_actions (user_id, action, ts) VALUES (%s, %s, %s)\n"
     ]
    },
    {
     "name": "stderr",
     "output_type": "stream",
     "text": [
      "2025-08-08 16:05:04,232 - ERROR - MySQL insert attempt 2 failed: Authentication plugin 'caching_sha2_password' is not supported\n",
      "ERROR:RedisWriteBehind:MySQL insert attempt 2 failed: Authentication plugin 'caching_sha2_password' is not supported\n",
      "2025-08-08 16:05:05,240 - ERROR - MySQL insert attempt 3 failed: Authentication plugin 'caching_sha2_password' is not supported\n",
      "ERROR:RedisWriteBehind:MySQL insert attempt 3 failed: Authentication plugin 'caching_sha2_password' is not supported\n",
      "2025-08-08 16:05:06,252 - ERROR - MySQL insert attempt 1 failed: Authentication plugin 'caching_sha2_password' is not supported\n",
      "ERROR:RedisWriteBehind:MySQL insert attempt 1 failed: Authentication plugin 'caching_sha2_password' is not supported\n"
     ]
    },
    {
     "name": "stdout",
     "output_type": "stream",
     "text": [
      "{'user_id': 36, 'action': 'logout', 'ts': '2025-08-08T10:29:45.113051'}\n",
      "calling write_to_rdbms\n",
      "INSERT INTO user_actions (user_id, action, ts) VALUES (%s, %s, %s)\n"
     ]
    },
    {
     "name": "stderr",
     "output_type": "stream",
     "text": [
      "2025-08-08 16:05:07,261 - ERROR - MySQL insert attempt 2 failed: Authentication plugin 'caching_sha2_password' is not supported\n",
      "ERROR:RedisWriteBehind:MySQL insert attempt 2 failed: Authentication plugin 'caching_sha2_password' is not supported\n",
      "2025-08-08 16:05:08,272 - ERROR - MySQL insert attempt 3 failed: Authentication plugin 'caching_sha2_password' is not supported\n",
      "ERROR:RedisWriteBehind:MySQL insert attempt 3 failed: Authentication plugin 'caching_sha2_password' is not supported\n",
      "2025-08-08 16:05:09,282 - ERROR - MySQL insert attempt 1 failed: Authentication plugin 'caching_sha2_password' is not supported\n",
      "ERROR:RedisWriteBehind:MySQL insert attempt 1 failed: Authentication plugin 'caching_sha2_password' is not supported\n"
     ]
    },
    {
     "name": "stdout",
     "output_type": "stream",
     "text": [
      "{'user_id': 30, 'action': 'view', 'ts': '2025-08-08T10:29:45.113651'}\n",
      "calling write_to_rdbms\n",
      "INSERT INTO user_actions (user_id, action, ts) VALUES (%s, %s, %s)\n"
     ]
    },
    {
     "name": "stderr",
     "output_type": "stream",
     "text": [
      "2025-08-08 16:05:10,304 - ERROR - MySQL insert attempt 2 failed: Authentication plugin 'caching_sha2_password' is not supported\n",
      "ERROR:RedisWriteBehind:MySQL insert attempt 2 failed: Authentication plugin 'caching_sha2_password' is not supported\n",
      "2025-08-08 16:05:11,313 - ERROR - MySQL insert attempt 3 failed: Authentication plugin 'caching_sha2_password' is not supported\n",
      "ERROR:RedisWriteBehind:MySQL insert attempt 3 failed: Authentication plugin 'caching_sha2_password' is not supported\n",
      "2025-08-08 16:05:12,326 - ERROR - MySQL insert attempt 1 failed: Authentication plugin 'caching_sha2_password' is not supported\n",
      "ERROR:RedisWriteBehind:MySQL insert attempt 1 failed: Authentication plugin 'caching_sha2_password' is not supported\n"
     ]
    },
    {
     "name": "stdout",
     "output_type": "stream",
     "text": [
      "{'user_id': 50, 'action': 'view', 'ts': '2025-08-08T10:29:45.114306'}\n",
      "calling write_to_rdbms\n",
      "INSERT INTO user_actions (user_id, action, ts) VALUES (%s, %s, %s)\n"
     ]
    },
    {
     "name": "stderr",
     "output_type": "stream",
     "text": [
      "2025-08-08 16:05:13,341 - ERROR - MySQL insert attempt 2 failed: Authentication plugin 'caching_sha2_password' is not supported\n",
      "ERROR:RedisWriteBehind:MySQL insert attempt 2 failed: Authentication plugin 'caching_sha2_password' is not supported\n",
      "2025-08-08 16:05:14,357 - ERROR - MySQL insert attempt 3 failed: Authentication plugin 'caching_sha2_password' is not supported\n",
      "ERROR:RedisWriteBehind:MySQL insert attempt 3 failed: Authentication plugin 'caching_sha2_password' is not supported\n",
      "2025-08-08 16:05:15,368 - ERROR - MySQL insert attempt 1 failed: Authentication plugin 'caching_sha2_password' is not supported\n",
      "ERROR:RedisWriteBehind:MySQL insert attempt 1 failed: Authentication plugin 'caching_sha2_password' is not supported\n"
     ]
    },
    {
     "name": "stdout",
     "output_type": "stream",
     "text": [
      "{'user_id': 60, 'action': 'click', 'ts': '2025-08-08T10:29:45.115036'}\n",
      "calling write_to_rdbms\n",
      "INSERT INTO user_actions (user_id, action, ts) VALUES (%s, %s, %s)\n"
     ]
    },
    {
     "name": "stderr",
     "output_type": "stream",
     "text": [
      "2025-08-08 16:05:16,378 - ERROR - MySQL insert attempt 2 failed: Authentication plugin 'caching_sha2_password' is not supported\n",
      "ERROR:RedisWriteBehind:MySQL insert attempt 2 failed: Authentication plugin 'caching_sha2_password' is not supported\n",
      "2025-08-08 16:05:17,387 - ERROR - MySQL insert attempt 3 failed: Authentication plugin 'caching_sha2_password' is not supported\n",
      "ERROR:RedisWriteBehind:MySQL insert attempt 3 failed: Authentication plugin 'caching_sha2_password' is not supported\n",
      "2025-08-08 16:05:18,392 - ERROR - MySQL insert attempt 1 failed: Authentication plugin 'caching_sha2_password' is not supported\n",
      "ERROR:RedisWriteBehind:MySQL insert attempt 1 failed: Authentication plugin 'caching_sha2_password' is not supported\n"
     ]
    },
    {
     "name": "stdout",
     "output_type": "stream",
     "text": [
      "{'user_id': 77, 'action': 'click', 'ts': '2025-08-08T10:29:45.115661'}\n",
      "calling write_to_rdbms\n",
      "INSERT INTO user_actions (user_id, action, ts) VALUES (%s, %s, %s)\n"
     ]
    },
    {
     "name": "stderr",
     "output_type": "stream",
     "text": [
      "2025-08-08 16:05:19,403 - ERROR - MySQL insert attempt 2 failed: Authentication plugin 'caching_sha2_password' is not supported\n",
      "ERROR:RedisWriteBehind:MySQL insert attempt 2 failed: Authentication plugin 'caching_sha2_password' is not supported\n",
      "2025-08-08 16:05:20,413 - ERROR - MySQL insert attempt 3 failed: Authentication plugin 'caching_sha2_password' is not supported\n",
      "ERROR:RedisWriteBehind:MySQL insert attempt 3 failed: Authentication plugin 'caching_sha2_password' is not supported\n",
      "2025-08-08 16:05:21,428 - ERROR - MySQL insert attempt 1 failed: Authentication plugin 'caching_sha2_password' is not supported\n",
      "ERROR:RedisWriteBehind:MySQL insert attempt 1 failed: Authentication plugin 'caching_sha2_password' is not supported\n"
     ]
    },
    {
     "name": "stdout",
     "output_type": "stream",
     "text": [
      "{'user_id': 12, 'action': 'view', 'ts': '2025-08-08T10:29:45.116352'}\n",
      "calling write_to_rdbms\n",
      "INSERT INTO user_actions (user_id, action, ts) VALUES (%s, %s, %s)\n"
     ]
    },
    {
     "name": "stderr",
     "output_type": "stream",
     "text": [
      "2025-08-08 16:05:22,436 - ERROR - MySQL insert attempt 2 failed: Authentication plugin 'caching_sha2_password' is not supported\n",
      "ERROR:RedisWriteBehind:MySQL insert attempt 2 failed: Authentication plugin 'caching_sha2_password' is not supported\n",
      "2025-08-08 16:05:23,452 - ERROR - MySQL insert attempt 3 failed: Authentication plugin 'caching_sha2_password' is not supported\n",
      "ERROR:RedisWriteBehind:MySQL insert attempt 3 failed: Authentication plugin 'caching_sha2_password' is not supported\n",
      "2025-08-08 16:05:24,469 - ERROR - MySQL insert attempt 1 failed: Authentication plugin 'caching_sha2_password' is not supported\n",
      "ERROR:RedisWriteBehind:MySQL insert attempt 1 failed: Authentication plugin 'caching_sha2_password' is not supported\n"
     ]
    },
    {
     "name": "stdout",
     "output_type": "stream",
     "text": [
      "{'user_id': 17, 'action': 'view', 'ts': '2025-08-08T10:34:54.114995'}\n",
      "calling write_to_rdbms\n",
      "INSERT INTO user_actions (user_id, action, ts) VALUES (%s, %s, %s)\n"
     ]
    },
    {
     "name": "stderr",
     "output_type": "stream",
     "text": [
      "2025-08-08 16:05:25,476 - ERROR - MySQL insert attempt 2 failed: Authentication plugin 'caching_sha2_password' is not supported\n",
      "ERROR:RedisWriteBehind:MySQL insert attempt 2 failed: Authentication plugin 'caching_sha2_password' is not supported\n",
      "2025-08-08 16:05:26,483 - ERROR - MySQL insert attempt 3 failed: Authentication plugin 'caching_sha2_password' is not supported\n",
      "ERROR:RedisWriteBehind:MySQL insert attempt 3 failed: Authentication plugin 'caching_sha2_password' is not supported\n",
      "2025-08-08 16:05:27,493 - ERROR - MySQL insert attempt 1 failed: Authentication plugin 'caching_sha2_password' is not supported\n",
      "ERROR:RedisWriteBehind:MySQL insert attempt 1 failed: Authentication plugin 'caching_sha2_password' is not supported\n"
     ]
    },
    {
     "name": "stdout",
     "output_type": "stream",
     "text": [
      "{'user_id': 83, 'action': 'view', 'ts': '2025-08-08T10:34:54.118765'}\n",
      "calling write_to_rdbms\n",
      "INSERT INTO user_actions (user_id, action, ts) VALUES (%s, %s, %s)\n"
     ]
    },
    {
     "name": "stderr",
     "output_type": "stream",
     "text": [
      "2025-08-08 16:05:28,502 - ERROR - MySQL insert attempt 2 failed: Authentication plugin 'caching_sha2_password' is not supported\n",
      "ERROR:RedisWriteBehind:MySQL insert attempt 2 failed: Authentication plugin 'caching_sha2_password' is not supported\n",
      "2025-08-08 16:05:29,510 - ERROR - MySQL insert attempt 3 failed: Authentication plugin 'caching_sha2_password' is not supported\n",
      "ERROR:RedisWriteBehind:MySQL insert attempt 3 failed: Authentication plugin 'caching_sha2_password' is not supported\n",
      "2025-08-08 16:05:30,525 - ERROR - MySQL insert attempt 1 failed: Authentication plugin 'caching_sha2_password' is not supported\n",
      "ERROR:RedisWriteBehind:MySQL insert attempt 1 failed: Authentication plugin 'caching_sha2_password' is not supported\n"
     ]
    },
    {
     "name": "stdout",
     "output_type": "stream",
     "text": [
      "{'user_id': 99, 'action': 'login', 'ts': '2025-08-08T10:34:54.120363'}\n",
      "calling write_to_rdbms\n",
      "INSERT INTO user_actions (user_id, action, ts) VALUES (%s, %s, %s)\n"
     ]
    },
    {
     "name": "stderr",
     "output_type": "stream",
     "text": [
      "2025-08-08 16:05:31,535 - ERROR - MySQL insert attempt 2 failed: Authentication plugin 'caching_sha2_password' is not supported\n",
      "ERROR:RedisWriteBehind:MySQL insert attempt 2 failed: Authentication plugin 'caching_sha2_password' is not supported\n",
      "2025-08-08 16:05:32,540 - ERROR - MySQL insert attempt 3 failed: Authentication plugin 'caching_sha2_password' is not supported\n",
      "ERROR:RedisWriteBehind:MySQL insert attempt 3 failed: Authentication plugin 'caching_sha2_password' is not supported\n",
      "2025-08-08 16:05:33,551 - ERROR - MySQL insert attempt 1 failed: Authentication plugin 'caching_sha2_password' is not supported\n",
      "ERROR:RedisWriteBehind:MySQL insert attempt 1 failed: Authentication plugin 'caching_sha2_password' is not supported\n"
     ]
    },
    {
     "name": "stdout",
     "output_type": "stream",
     "text": [
      "{'user_id': 79, 'action': 'view', 'ts': '2025-08-08T10:34:54.121024'}\n",
      "calling write_to_rdbms\n",
      "INSERT INTO user_actions (user_id, action, ts) VALUES (%s, %s, %s)\n"
     ]
    },
    {
     "name": "stderr",
     "output_type": "stream",
     "text": [
      "2025-08-08 16:05:34,559 - ERROR - MySQL insert attempt 2 failed: Authentication plugin 'caching_sha2_password' is not supported\n",
      "ERROR:RedisWriteBehind:MySQL insert attempt 2 failed: Authentication plugin 'caching_sha2_password' is not supported\n",
      "2025-08-08 16:05:35,570 - ERROR - MySQL insert attempt 3 failed: Authentication plugin 'caching_sha2_password' is not supported\n",
      "ERROR:RedisWriteBehind:MySQL insert attempt 3 failed: Authentication plugin 'caching_sha2_password' is not supported\n",
      "2025-08-08 16:05:36,584 - ERROR - MySQL insert attempt 1 failed: Authentication plugin 'caching_sha2_password' is not supported\n",
      "ERROR:RedisWriteBehind:MySQL insert attempt 1 failed: Authentication plugin 'caching_sha2_password' is not supported\n"
     ]
    },
    {
     "name": "stdout",
     "output_type": "stream",
     "text": [
      "{'user_id': 56, 'action': 'login', 'ts': '2025-08-08T10:34:54.122268'}\n",
      "calling write_to_rdbms\n",
      "INSERT INTO user_actions (user_id, action, ts) VALUES (%s, %s, %s)\n"
     ]
    },
    {
     "name": "stderr",
     "output_type": "stream",
     "text": [
      "2025-08-08 16:05:37,596 - ERROR - MySQL insert attempt 2 failed: Authentication plugin 'caching_sha2_password' is not supported\n",
      "ERROR:RedisWriteBehind:MySQL insert attempt 2 failed: Authentication plugin 'caching_sha2_password' is not supported\n",
      "2025-08-08 16:05:38,605 - ERROR - MySQL insert attempt 3 failed: Authentication plugin 'caching_sha2_password' is not supported\n",
      "ERROR:RedisWriteBehind:MySQL insert attempt 3 failed: Authentication plugin 'caching_sha2_password' is not supported\n",
      "2025-08-08 16:05:39,621 - ERROR - MySQL insert attempt 1 failed: Authentication plugin 'caching_sha2_password' is not supported\n",
      "ERROR:RedisWriteBehind:MySQL insert attempt 1 failed: Authentication plugin 'caching_sha2_password' is not supported\n"
     ]
    },
    {
     "name": "stdout",
     "output_type": "stream",
     "text": [
      "{'user_id': 54, 'action': 'logout', 'ts': '2025-08-08T10:34:54.123908'}\n",
      "calling write_to_rdbms\n",
      "INSERT INTO user_actions (user_id, action, ts) VALUES (%s, %s, %s)\n"
     ]
    },
    {
     "name": "stderr",
     "output_type": "stream",
     "text": [
      "2025-08-08 16:05:40,629 - ERROR - MySQL insert attempt 2 failed: Authentication plugin 'caching_sha2_password' is not supported\n",
      "ERROR:RedisWriteBehind:MySQL insert attempt 2 failed: Authentication plugin 'caching_sha2_password' is not supported\n",
      "2025-08-08 16:05:41,640 - ERROR - MySQL insert attempt 3 failed: Authentication plugin 'caching_sha2_password' is not supported\n",
      "ERROR:RedisWriteBehind:MySQL insert attempt 3 failed: Authentication plugin 'caching_sha2_password' is not supported\n",
      "2025-08-08 16:05:42,653 - ERROR - MySQL insert attempt 1 failed: Authentication plugin 'caching_sha2_password' is not supported\n",
      "ERROR:RedisWriteBehind:MySQL insert attempt 1 failed: Authentication plugin 'caching_sha2_password' is not supported\n"
     ]
    },
    {
     "name": "stdout",
     "output_type": "stream",
     "text": [
      "{'user_id': 55, 'action': 'logout', 'ts': '2025-08-08T10:34:54.124997'}\n",
      "calling write_to_rdbms\n",
      "INSERT INTO user_actions (user_id, action, ts) VALUES (%s, %s, %s)\n"
     ]
    },
    {
     "name": "stderr",
     "output_type": "stream",
     "text": [
      "2025-08-08 16:05:43,667 - ERROR - MySQL insert attempt 2 failed: Authentication plugin 'caching_sha2_password' is not supported\n",
      "ERROR:RedisWriteBehind:MySQL insert attempt 2 failed: Authentication plugin 'caching_sha2_password' is not supported\n",
      "2025-08-08 16:05:44,676 - ERROR - MySQL insert attempt 3 failed: Authentication plugin 'caching_sha2_password' is not supported\n",
      "ERROR:RedisWriteBehind:MySQL insert attempt 3 failed: Authentication plugin 'caching_sha2_password' is not supported\n",
      "2025-08-08 16:05:45,688 - ERROR - MySQL insert attempt 1 failed: Authentication plugin 'caching_sha2_password' is not supported\n",
      "ERROR:RedisWriteBehind:MySQL insert attempt 1 failed: Authentication plugin 'caching_sha2_password' is not supported\n"
     ]
    },
    {
     "name": "stdout",
     "output_type": "stream",
     "text": [
      "{'user_id': 12, 'action': 'click', 'ts': '2025-08-08T10:34:54.125927'}\n",
      "calling write_to_rdbms\n",
      "INSERT INTO user_actions (user_id, action, ts) VALUES (%s, %s, %s)\n"
     ]
    },
    {
     "name": "stderr",
     "output_type": "stream",
     "text": [
      "2025-08-08 16:05:46,701 - ERROR - MySQL insert attempt 2 failed: Authentication plugin 'caching_sha2_password' is not supported\n",
      "ERROR:RedisWriteBehind:MySQL insert attempt 2 failed: Authentication plugin 'caching_sha2_password' is not supported\n",
      "2025-08-08 16:05:47,709 - ERROR - MySQL insert attempt 3 failed: Authentication plugin 'caching_sha2_password' is not supported\n",
      "ERROR:RedisWriteBehind:MySQL insert attempt 3 failed: Authentication plugin 'caching_sha2_password' is not supported\n",
      "2025-08-08 16:05:48,722 - ERROR - MySQL insert attempt 1 failed: Authentication plugin 'caching_sha2_password' is not supported\n",
      "ERROR:RedisWriteBehind:MySQL insert attempt 1 failed: Authentication plugin 'caching_sha2_password' is not supported\n"
     ]
    },
    {
     "name": "stdout",
     "output_type": "stream",
     "text": [
      "{'user_id': 92, 'action': 'logout', 'ts': '2025-08-08T10:34:54.127079'}\n",
      "calling write_to_rdbms\n",
      "INSERT INTO user_actions (user_id, action, ts) VALUES (%s, %s, %s)\n"
     ]
    },
    {
     "name": "stderr",
     "output_type": "stream",
     "text": [
      "2025-08-08 16:05:49,733 - ERROR - MySQL insert attempt 2 failed: Authentication plugin 'caching_sha2_password' is not supported\n",
      "ERROR:RedisWriteBehind:MySQL insert attempt 2 failed: Authentication plugin 'caching_sha2_password' is not supported\n",
      "2025-08-08 16:05:50,743 - ERROR - MySQL insert attempt 3 failed: Authentication plugin 'caching_sha2_password' is not supported\n",
      "ERROR:RedisWriteBehind:MySQL insert attempt 3 failed: Authentication plugin 'caching_sha2_password' is not supported\n",
      "2025-08-08 16:05:51,760 - ERROR - MySQL insert attempt 1 failed: Authentication plugin 'caching_sha2_password' is not supported\n",
      "ERROR:RedisWriteBehind:MySQL insert attempt 1 failed: Authentication plugin 'caching_sha2_password' is not supported\n"
     ]
    },
    {
     "name": "stdout",
     "output_type": "stream",
     "text": [
      "{'user_id': 100, 'action': 'view', 'ts': '2025-08-08T10:34:54.129059'}\n",
      "calling write_to_rdbms\n",
      "INSERT INTO user_actions (user_id, action, ts) VALUES (%s, %s, %s)\n"
     ]
    },
    {
     "name": "stderr",
     "output_type": "stream",
     "text": [
      "2025-08-08 16:05:52,770 - ERROR - MySQL insert attempt 2 failed: Authentication plugin 'caching_sha2_password' is not supported\n",
      "ERROR:RedisWriteBehind:MySQL insert attempt 2 failed: Authentication plugin 'caching_sha2_password' is not supported\n",
      "2025-08-08 16:05:53,779 - ERROR - MySQL insert attempt 3 failed: Authentication plugin 'caching_sha2_password' is not supported\n",
      "ERROR:RedisWriteBehind:MySQL insert attempt 3 failed: Authentication plugin 'caching_sha2_password' is not supported\n",
      "2025-08-08 16:05:54,792 - ERROR - MySQL insert attempt 1 failed: Authentication plugin 'caching_sha2_password' is not supported\n",
      "ERROR:RedisWriteBehind:MySQL insert attempt 1 failed: Authentication plugin 'caching_sha2_password' is not supported\n"
     ]
    },
    {
     "name": "stdout",
     "output_type": "stream",
     "text": [
      "{'user_id': 100, 'action': 'view', 'ts': '2025-08-08T10:34:54.129059'}\n",
      "calling write_to_rdbms\n",
      "INSERT INTO user_actions (user_id, action, ts) VALUES (%s, %s, %s)\n"
     ]
    },
    {
     "name": "stderr",
     "output_type": "stream",
     "text": [
      "2025-08-08 16:05:55,804 - ERROR - MySQL insert attempt 2 failed: Authentication plugin 'caching_sha2_password' is not supported\n",
      "ERROR:RedisWriteBehind:MySQL insert attempt 2 failed: Authentication plugin 'caching_sha2_password' is not supported\n",
      "2025-08-08 16:05:56,816 - ERROR - MySQL insert attempt 3 failed: Authentication plugin 'caching_sha2_password' is not supported\n",
      "ERROR:RedisWriteBehind:MySQL insert attempt 3 failed: Authentication plugin 'caching_sha2_password' is not supported\n",
      "2025-08-08 16:05:57,830 - ERROR - MySQL insert attempt 1 failed: Authentication plugin 'caching_sha2_password' is not supported\n",
      "ERROR:RedisWriteBehind:MySQL insert attempt 1 failed: Authentication plugin 'caching_sha2_password' is not supported\n"
     ]
    },
    {
     "name": "stdout",
     "output_type": "stream",
     "text": [
      "{'user_id': 100, 'action': 'view', 'ts': '2025-08-08T10:34:54.129059'}\n",
      "calling write_to_rdbms\n",
      "INSERT INTO user_actions (user_id, action, ts) VALUES (%s, %s, %s)\n"
     ]
    },
    {
     "name": "stderr",
     "output_type": "stream",
     "text": [
      "2025-08-08 16:05:58,839 - ERROR - MySQL insert attempt 2 failed: Authentication plugin 'caching_sha2_password' is not supported\n",
      "ERROR:RedisWriteBehind:MySQL insert attempt 2 failed: Authentication plugin 'caching_sha2_password' is not supported\n",
      "2025-08-08 16:05:59,850 - ERROR - MySQL insert attempt 3 failed: Authentication plugin 'caching_sha2_password' is not supported\n",
      "ERROR:RedisWriteBehind:MySQL insert attempt 3 failed: Authentication plugin 'caching_sha2_password' is not supported\n",
      "2025-08-08 16:06:00,859 - ERROR - MySQL insert attempt 1 failed: Authentication plugin 'caching_sha2_password' is not supported\n",
      "ERROR:RedisWriteBehind:MySQL insert attempt 1 failed: Authentication plugin 'caching_sha2_password' is not supported\n"
     ]
    },
    {
     "name": "stdout",
     "output_type": "stream",
     "text": [
      "{'user_id': 100, 'action': 'view', 'ts': '2025-08-08T10:34:54.129059'}\n",
      "calling write_to_rdbms\n",
      "INSERT INTO user_actions (user_id, action, ts) VALUES (%s, %s, %s)\n"
     ]
    },
    {
     "name": "stderr",
     "output_type": "stream",
     "text": [
      "2025-08-08 16:06:01,866 - ERROR - MySQL insert attempt 2 failed: Authentication plugin 'caching_sha2_password' is not supported\n",
      "ERROR:RedisWriteBehind:MySQL insert attempt 2 failed: Authentication plugin 'caching_sha2_password' is not supported\n",
      "2025-08-08 16:06:02,872 - ERROR - MySQL insert attempt 3 failed: Authentication plugin 'caching_sha2_password' is not supported\n",
      "ERROR:RedisWriteBehind:MySQL insert attempt 3 failed: Authentication plugin 'caching_sha2_password' is not supported\n",
      "2025-08-08 16:06:03,883 - ERROR - MySQL insert attempt 1 failed: Authentication plugin 'caching_sha2_password' is not supported\n",
      "ERROR:RedisWriteBehind:MySQL insert attempt 1 failed: Authentication plugin 'caching_sha2_password' is not supported\n"
     ]
    },
    {
     "name": "stdout",
     "output_type": "stream",
     "text": [
      "{'user_id': 100, 'action': 'view', 'ts': '2025-08-08T10:34:54.129059'}\n",
      "calling write_to_rdbms\n",
      "INSERT INTO user_actions (user_id, action, ts) VALUES (%s, %s, %s)\n"
     ]
    },
    {
     "name": "stderr",
     "output_type": "stream",
     "text": [
      "2025-08-08 16:06:04,893 - ERROR - MySQL insert attempt 2 failed: Authentication plugin 'caching_sha2_password' is not supported\n",
      "ERROR:RedisWriteBehind:MySQL insert attempt 2 failed: Authentication plugin 'caching_sha2_password' is not supported\n",
      "2025-08-08 16:06:05,908 - ERROR - MySQL insert attempt 3 failed: Authentication plugin 'caching_sha2_password' is not supported\n",
      "ERROR:RedisWriteBehind:MySQL insert attempt 3 failed: Authentication plugin 'caching_sha2_password' is not supported\n",
      "2025-08-08 16:06:06,920 - ERROR - MySQL insert attempt 1 failed: Authentication plugin 'caching_sha2_password' is not supported\n",
      "ERROR:RedisWriteBehind:MySQL insert attempt 1 failed: Authentication plugin 'caching_sha2_password' is not supported\n"
     ]
    },
    {
     "name": "stdout",
     "output_type": "stream",
     "text": [
      "{'user_id': 100, 'action': 'view', 'ts': '2025-08-08T10:34:54.129059'}\n",
      "calling write_to_rdbms\n",
      "INSERT INTO user_actions (user_id, action, ts) VALUES (%s, %s, %s)\n"
     ]
    },
    {
     "name": "stderr",
     "output_type": "stream",
     "text": [
      "2025-08-08 16:06:07,925 - ERROR - MySQL insert attempt 2 failed: Authentication plugin 'caching_sha2_password' is not supported\n",
      "ERROR:RedisWriteBehind:MySQL insert attempt 2 failed: Authentication plugin 'caching_sha2_password' is not supported\n",
      "2025-08-08 16:06:08,931 - ERROR - MySQL insert attempt 3 failed: Authentication plugin 'caching_sha2_password' is not supported\n",
      "ERROR:RedisWriteBehind:MySQL insert attempt 3 failed: Authentication plugin 'caching_sha2_password' is not supported\n"
     ]
    }
   ],
   "source": [
    "# Required Imports\n",
    "import redis\n",
    "import yaml\n",
    "import json\n",
    "import time\n",
    "import random\n",
    "import logging\n",
    "from datetime import datetime\n",
    "from typing import Dict, Any\n",
    "from redis.exceptions import ConnectionError\n",
    "import mysql.connector\n",
    "from mysql.connector import Error\n",
    "\n",
    "# Setup Logging\n",
    "logging.basicConfig(level=logging.DEBUG)\n",
    "logger = logging.getLogger(\"RedisWriteBehind\")\n",
    "\n",
    "# Load Config\n",
    "def load_config(path: str) -> Dict[str, Any]:\n",
    "    with open(path, 'r') as f:\n",
    "        return yaml.safe_load(f)\n",
    "\n",
    "# Initialize Redis client from config\n",
    "def init_redis_client(config: Dict[str, Any]) -> redis.Redis:\n",
    "    redis_cfg = config['redis']\n",
    "    return redis.Redis(\n",
    "        host=redis_cfg['host'],\n",
    "        port=redis_cfg['port'],\n",
    "        db=redis_cfg.get('db', 0),\n",
    "        username=redis_cfg.get('username'),\n",
    "        password=redis_cfg.get('password'),\n",
    "        decode_responses=redis_cfg.get('decode_responses', True)\n",
    "    )\n",
    "\n",
    "# Insert JSON Document & Queue Stream\n",
    "def insert_document(r, entity: str, key: str, data: Dict, config: Dict, ensure_persistence: bool = False):\n",
    "    metrics = config['metrics']\n",
    "    try:\n",
    "        r.json().set(key, '$', data)\n",
    "\n",
    "        if ensure_persistence and config.get('redis_wait', {}).get('enabled', False):\n",
    "            replicas = config['redis_wait']['replicas']\n",
    "            timeout = config['redis_wait']['timeout_ms']\n",
    "            if r.wait(replicas, timeout) < replicas:\n",
    "                logger.warning(f\"WAIT timeout for key {key}\")\n",
    "                raise ConnectionError(\"WAIT failed\")\n",
    "            if r.execute_command('WAITAOF', replicas, timeout) < replicas:\n",
    "                logger.warning(f\"WAITAOF timeout for key {key}\")\n",
    "                raise ConnectionError(\"WAITAOF failed\")\n",
    "\n",
    "        stream_key = f\"{config['stream_prefixes'][entity]}:{entity}\"\n",
    "        r.xadd(stream_key, {'key': key, 'timestamp': str(datetime.utcnow())})\n",
    "        r.xadd(metrics['insert_success_stream'], {'key': key, 'entity': entity, 'timestamp': str(datetime.utcnow())})\n",
    "        r.incr(metrics['insert_success_counter'])\n",
    "\n",
    "    except Exception as e:\n",
    "        r.xadd(metrics['insert_failure_stream'], {'key': key, 'entity': entity, 'error': str(e), 'timestamp': str(datetime.utcnow())})\n",
    "        r.incr(metrics['insert_failure_counter'])\n",
    "        if config.get('debug', False):\n",
    "            logger.error(f\"Insert failed for key {key}: {e}\")\n",
    "        if ensure_persistence:\n",
    "            retry_insert(r, entity, key, data, config)\n",
    "\n",
    "# Retry Logic\n",
    "def retry_insert(r, entity: str, key: str, data: Dict, config: Dict, max_attempts: int = 3):\n",
    "    metrics = config['metrics']\n",
    "    for attempt in range(1, max_attempts + 1):\n",
    "        try:\n",
    "            r.json().set(key, '$', data)\n",
    "            r.xadd(metrics['insert_retry_stream'], {'key': key, 'attempt': attempt, 'timestamp': str(datetime.utcnow())})\n",
    "            r.incr(metrics['insert_retry_counter'])\n",
    "            return\n",
    "        except Exception as e:\n",
    "            if config.get('debug', False):\n",
    "                logger.warning(f\"Retry {attempt} failed for key {key}: {e}\")\n",
    "    r.xadd(metrics['insert_failure_stream'], {'key': key, 'entity': entity, 'error': 'Final Retry Failed', 'timestamp': str(datetime.utcnow())})\n",
    "    r.incr(metrics['insert_failure_counter'])\n",
    "\n",
    "# Write Behind Processor\n",
    "def RedisWriteBehind(r, entity: str, config: Dict):\n",
    "    metrics = config['metrics']\n",
    "    stream_key = f\"{config['stream_prefixes'][entity]}:{entity}\"\n",
    "    last_id = '0-0'\n",
    "    batch_size = config['stream_read_batch']\n",
    "    attempts = config['rdbms']['retry_attempts']\n",
    "\n",
    "    while True:\n",
    "        try:\n",
    "            records = r.xrange(stream_key, min=last_id, count=batch_size)\n",
    "            if not records:\n",
    "                break\n",
    "            for record_id, record in records:\n",
    "                key = record['key']\n",
    "                data = r.json().get(key)\n",
    "                transformed = apply_transform(entity, data, config)\n",
    "                success = write_to_rdbms(entity, transformed, config, attempts)\n",
    "                if success:\n",
    "                    r.xadd(metrics['rdbms_success_stream'], {'key': key, 'timestamp': str(datetime.utcnow())})\n",
    "                    r.incr(metrics['rdbms_success_counter'])\n",
    "                else:\n",
    "                    r.xadd(metrics['rdbms_failure_stream'], {'key': key, 'timestamp': str(datetime.utcnow())})\n",
    "                    r.incr(metrics['rdbms_failure_counter'])\n",
    "            last_id = records[-1][0]\n",
    "        except Exception as e:\n",
    "            if config.get('debug', False):\n",
    "                logger.error(f\"WriteBehind failed for {entity}: {e}\")\n",
    "            break\n",
    "\n",
    "# Transformation Logic\n",
    "def apply_transform(entity: str, data: Dict, config: Dict) -> Dict:\n",
    "    mappings = config['transformations'][entity]['mappings']\n",
    "    return {tgt_key: data.get(src_key) for src_key, tgt_key in mappings.items()}\n",
    "\n",
    "# Write to MySQL\n",
    "def write_to_rdbms(entity: str, data: Dict, config: Dict, attempts: int) -> bool:\n",
    "    rdbms_cfg = config['rdbms']\n",
    "    transform_cfg = config['transformations'][entity]\n",
    "    table = transform_cfg['table']\n",
    "    columns = list(data.keys())\n",
    "    values = list(data.values())\n",
    "    insert_query = f\"INSERT INTO {table} ({', '.join(columns)}) VALUES ({', '.join(['%s'] * len(values))})\"\n",
    "    for attempt in range(attempts):\n",
    "        try:\n",
    "            conn = mysql.connector.connect(\n",
    "                host=rdbms_cfg['jdbc']['host'],\n",
    "                port=rdbms_cfg['jdbc']['port'],\n",
    "                user=rdbms_cfg['jdbc']['username'],\n",
    "                password=rdbms_cfg['jdbc']['password'],\n",
    "                database=rdbms_cfg['jdbc']['database']\n",
    "            )\n",
    "            cursor = conn.cursor()\n",
    "            print(insert_query)\n",
    "            cursor.execute(insert_query, tuple(values))\n",
    "            conn.commit()\n",
    "            cursor.close()\n",
    "            conn.close()\n",
    "            return True\n",
    "        except Error as e:\n",
    "            if config.get('debug', False):\n",
    "                logger.error(f\"MySQL insert attempt {attempt+1} failed: {e}\")\n",
    "            time.sleep(1)\n",
    "    return False\n",
    "\n",
    "# Dummy Data Generator\n",
    "def load_dummy_data(r, config):\n",
    "    for i in range(10):\n",
    "        entity = \"user_action\"\n",
    "        timestamp = datetime.utcnow().isoformat()\n",
    "        instance_id = random.randint(1000, 9999)\n",
    "        key = f\"user_action:{timestamp}:{instance_id}\"\n",
    "        data = {\n",
    "            \"user_id\": random.randint(1, 100),\n",
    "            \"action\": random.choice([\"login\", \"logout\", \"view\", \"click\"]),\n",
    "            \"timestamp\": timestamp\n",
    "        }\n",
    "        insert_document(r, entity, key, data, config, ensure_persistence=config.get('redis_wait', {}).get('enabled', False))\n",
    "\n",
    "# Load Metrics\n",
    "def load_metrics(r, config):\n",
    "    metric_keys = [\n",
    "        config['metrics']['insert_success_counter'],\n",
    "        config['metrics']['insert_failure_counter'],\n",
    "        config['metrics']['insert_retry_counter'],\n",
    "        config['metrics']['rdbms_success_counter'],\n",
    "        config['metrics']['rdbms_failure_counter']\n",
    "    ]\n",
    "    return {key: r.get(key) or 0 for key in metric_keys}\n",
    "\n",
    "# Main\n",
    "def main():\n",
    "    config = load_config(\"/Users/suyog/Documents/GitHub/redis-streams-to-rdbms-write-behind/configs/config.yaml\")\n",
    "    r = init_redis_client(config)\n",
    "    load_dummy_data(r, config)\n",
    "    RedisWriteBehind(r, \"user_action\", config)\n",
    "    print(load_metrics(r, config))\n",
    "\n",
    "main()"
   ]
  },
  {
   "cell_type": "code",
   "execution_count": null,
   "id": "5072ff3c-b5b0-44e3-a139-2ce7a7da2fb2",
   "metadata": {},
   "outputs": [],
   "source": []
  }
 ],
 "metadata": {
  "kernelspec": {
   "display_name": "Python 3 (ipykernel)",
   "language": "python",
   "name": "python3"
  },
  "language_info": {
   "codemirror_mode": {
    "name": "ipython",
    "version": 3
   },
   "file_extension": ".py",
   "mimetype": "text/x-python",
   "name": "python",
   "nbconvert_exporter": "python",
   "pygments_lexer": "ipython3",
   "version": "3.9.6"
  }
 },
 "nbformat": 4,
 "nbformat_minor": 5
}
